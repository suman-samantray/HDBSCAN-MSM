{
 "cells": [
  {
   "cell_type": "markdown",
   "metadata": {},
   "source": [
    "## 1. Load files (change main_dir and force_dir accordingly)"
   ]
  },
  {
   "cell_type": "code",
   "execution_count": 1,
   "metadata": {},
   "outputs": [],
   "source": [
    "import pyemma\n",
    "import numpy as np\n",
    "import matplotlib\n",
    "import matplotlib.pyplot as plt\n",
    "plt.matplotlib.rcParams.update({'font.size': 15})\n",
    "import MDAnalysis\n",
    "import mdtraj as md\n",
    "import pyemma.plots as mplt\n",
    "from IPython.display import Image\n",
    "from sklearn.cluster import DBSCAN\n",
    "import hdbscan\n",
    "from sklearn import metrics\n",
    "import seaborn as sns\n",
    "import pandas as pd"
   ]
  },
  {
   "cell_type": "code",
   "execution_count": 7,
   "metadata": {},
   "outputs": [
    {
     "name": "stdout",
     "output_type": "stream",
     "text": [
      "/media/biosim11/Argha_HDD/HiWi_Prof_strodel/jupyter_work/Suman_5_08/deshaw_ss/DEshaw-ab40\n"
     ]
    }
   ],
   "source": [
    "# cd /media/biosim11/Argha_HDD/HiWi_Prof_strodel/jupyter_work/Suman_5_08/deshaw_ss/DEshaw-ab40"
   ]
  },
  {
   "cell_type": "code",
   "execution_count": 8,
   "metadata": {},
   "outputs": [
    {
     "name": "stdout",
     "output_type": "stream",
     "text": [
      "\u001b[0m\u001b[01;34ma03ws\u001b[0m/\r\n",
      "\u001b[01;34ma99SBdisp\u001b[0m/\r\n",
      "\u001b[01;34ma99SB-ILDN-TIP4PD\u001b[0m/\r\n",
      "\u001b[01;34ma99SBstar-ILDN-TIP3P\u001b[0m/\r\n",
      "\u001b[01;34ma99SB-UCB\u001b[0m/\r\n",
      "ab40-desres.pdb\r\n",
      "\u001b[01;34mc22star-TIP3P\u001b[0m/\r\n",
      "\u001b[01;34mCharmm36m\u001b[0m/\r\n",
      "\u001b[01;31mDESRES-Trajectory_pnas2018b-Ab40-a03ws-protein.tar\u001b[0m\r\n",
      "\u001b[01;31mDESRES-Trajectory_pnas2018b-Ab40-a99SBdisp-protein.tar\u001b[0m\r\n",
      "\u001b[01;31mDESRES-Trajectory_pnas2018b-Ab40-a99SB-ILDN-TIP4PD-protein.tar\u001b[0m\r\n",
      "\u001b[01;31mDESRES-Trajectory_pnas2018b-Ab40-a99SBstar-ILDN-TIP3P-protein.tar\u001b[0m\r\n",
      "\u001b[01;31mDESRES-Trajectory_pnas2018b-Ab40-a99SB-UCB-protein.tar\u001b[0m\r\n",
      "\u001b[01;31mDESRES-Trajectory_pnas2018b-Ab40-c22star-TIP3P-protein.tar\u001b[0m\r\n",
      "\u001b[01;31mDESRES-Trajectory_pnas2018b-Ab40-Charmm36m-protein.tar\u001b[0m\r\n",
      "\u001b[01;34mDESRES-Trajectory_pnas2018b-forcefield_data-a99SBdisp\u001b[0m/\r\n",
      "\u001b[01;31mDESRES-Trajectory_pnas2018b-forcefield_data-a99SBdisp.tar\u001b[0m\r\n",
      "\u001b[01;31mDESRES-Trajectory_pnas2018b-forcefield_data-gromacs-a99SBdisp.tar\u001b[0m\r\n",
      "\u001b[01;31mexp_data_robustelli_PNAS_2018.tar\u001b[0m\r\n",
      "\u001b[01;34mteest\u001b[0m/\r\n"
     ]
    }
   ],
   "source": [
    "ls"
   ]
  },
  {
   "cell_type": "code",
   "execution_count": 118,
   "metadata": {},
   "outputs": [],
   "source": [
    "main_dir = '/media/biosim11/Argha_HDD/HiWi_Prof_strodel/jupyter_work/Suman_5_08/deshaw_ss/DEshaw-ab40/'\n",
    "force_dir = main_dir + 'a99SBdisp/' + 'pnas2018b-Ab40-a99SBdisp-protein/'\n",
    "force_name = 'a99SBdisp'"
   ]
  },
  {
   "cell_type": "code",
   "execution_count": 17,
   "metadata": {},
   "outputs": [],
   "source": [
    "pbdfile_A40 = force_dir+'/ab40-desres.pdb'\n",
    "\n",
    "traj_concatenated = force_dir + '/traj_concatenated.dcd'\n",
    "traj_0 = force_dir +'/pnas2018b-Ab40-a99SBdisp-protein-0000.dcd'\n",
    "traj_1 = force_dir +'/pnas2018b-Ab40-a99SBdisp-protein-0001.dcd'\n",
    "traj_2 = force_dir +'/pnas2018b-Ab40-a99SBdisp-protein-0002.dcd'\n",
    "traj_list = [traj_0, traj_1, traj_2]"
   ]
  },
  {
   "cell_type": "code",
   "execution_count": 18,
   "metadata": {},
   "outputs": [
    {
     "name": "stdout",
     "output_type": "stream",
     "text": [
      "traj 1: <DCDReader /media/biosim11/Argha_HDD/HiWi_Prof_strodel/jupyter_work/Suman_5_08/deshaw_ss/DEshaw-ab40/a99SBdisp/pnas2018b-Ab40-a99SBdisp-protein//pnas2018b-Ab40-a99SBdisp-protein-0000.dcd with 10000 frames of 598 atoms> \n",
      "\n",
      "traj 2: <DCDReader /media/biosim11/Argha_HDD/HiWi_Prof_strodel/jupyter_work/Suman_5_08/deshaw_ss/DEshaw-ab40/a99SBdisp/pnas2018b-Ab40-a99SBdisp-protein//pnas2018b-Ab40-a99SBdisp-protein-0001.dcd with 10000 frames of 598 atoms> \n",
      "\n",
      "traj 3: <DCDReader /media/biosim11/Argha_HDD/HiWi_Prof_strodel/jupyter_work/Suman_5_08/deshaw_ss/DEshaw-ab40/a99SBdisp/pnas2018b-Ab40-a99SBdisp-protein//pnas2018b-Ab40-a99SBdisp-protein-0002.dcd with 9977 frames of 598 atoms> \n",
      "\n",
      "traj concatenated: <DCDReader /media/biosim11/Argha_HDD/HiWi_Prof_strodel/jupyter_work/Suman_5_08/deshaw_ss/DEshaw-ab40/a99SBdisp/pnas2018b-Ab40-a99SBdisp-protein//traj_concatenated.dcd with 29977 frames of 598 atoms>\n"
     ]
    }
   ],
   "source": [
    "#for checking the trajectory lenght we can use the print commands below\n",
    "reader1 = MDAnalysis.coordinates.DCD.DCDReader(traj_0)\n",
    "reader2 = MDAnalysis.coordinates.DCD.DCDReader(traj_1)\n",
    "reader3 = MDAnalysis.coordinates.DCD.DCDReader(traj_2)\n",
    "reader4 = MDAnalysis.coordinates.DCD.DCDReader(traj_concatenated)\n",
    "print('traj 1:',reader1,'\\n')\n",
    "print('traj 2:',reader2,'\\n')\n",
    "print('traj 3:',reader3,'\\n')\n",
    "print('traj concatenated:',reader4)"
   ]
  },
  {
   "cell_type": "markdown",
   "metadata": {},
   "source": [
    "## 2. Feature selection (C$\\alpha$)"
   ]
  },
  {
   "cell_type": "code",
   "execution_count": 19,
   "metadata": {},
   "outputs": [
    {
     "name": "stdout",
     "output_type": "stream",
     "text": [
      "c-alpha_dist_featdim: 703\n"
     ]
    }
   ],
   "source": [
    "feat_ab402=pyemma.coordinates.featurizer(pbdfile_A40)\n",
    "feat_ab402.add_distances_ca()\n",
    "print('c-alpha_dist_featdim:',feat_ab402.dimension())\n",
    "#feat_ab402"
   ]
  },
  {
   "cell_type": "code",
   "execution_count": 21,
   "metadata": {},
   "outputs": [
    {
     "data": {
      "application/vnd.jupyter.widget-view+json": {
       "model_id": "",
       "version_major": 2,
       "version_minor": 0
      },
      "text/plain": [
       "HBox(children=(HBox(children=(Label(value='Obtaining file info'),), layout=Layout(max_width='35%', min_width='…"
      ]
     },
     "metadata": {},
     "output_type": "display_data"
    },
    {
     "name": "stdout",
     "output_type": "stream",
     "text": [
      "\r"
     ]
    },
    {
     "data": {
      "application/vnd.jupyter.widget-view+json": {
       "model_id": "",
       "version_major": 2,
       "version_minor": 0
      },
      "text/plain": [
       "HBox(children=(HBox(children=(Label(value='getting output of FeatureReader'),), layout=Layout(max_width='35%',…"
      ]
     },
     "metadata": {},
     "output_type": "display_data"
    },
    {
     "name": "stdout",
     "output_type": "stream",
     "text": [
      "\r"
     ]
    },
    {
     "data": {
      "application/vnd.jupyter.widget-view+json": {
       "model_id": "",
       "version_major": 2,
       "version_minor": 0
      },
      "text/plain": [
       "HBox(children=(HBox(children=(Label(value='Obtaining file info'),), layout=Layout(max_width='35%', min_width='…"
      ]
     },
     "metadata": {},
     "output_type": "display_data"
    },
    {
     "name": "stdout",
     "output_type": "stream",
     "text": [
      "\r"
     ]
    }
   ],
   "source": [
    "ca_distances = pyemma.coordinates.load(traj_list, feat_ab402)\n",
    "inp2 = pyemma.coordinates.source(traj_list, feat_ab402)\n",
    "ca_distances_conc = pyemma.coordinates.load(traj_concatenated, feat_ab402)\n",
    "inp2_conc = pyemma.coordinates.source(traj_concatenated, feat_ab402)"
   ]
  },
  {
   "cell_type": "code",
   "execution_count": 22,
   "metadata": {},
   "outputs": [
    {
     "name": "stdout",
     "output_type": "stream",
     "text": [
      "[10000 10000  9977]\n",
      "\n",
      "\n",
      "[29977]\n"
     ]
    }
   ],
   "source": [
    "#an additional check can be done printing the trajectory leghts\n",
    "\n",
    "print(inp2.trajectory_lengths())\n",
    "print('\\n')\n",
    "print(inp2_conc.trajectory_lengths())"
   ]
  },
  {
   "cell_type": "markdown",
   "metadata": {},
   "source": [
    "## 3. TICA dimensionality reduction (first 2 tica co-ordinates)"
   ]
  },
  {
   "cell_type": "code",
   "execution_count": 23,
   "metadata": {},
   "outputs": [],
   "source": [
    "tica_obj_ca_2D = pyemma.coordinates.tica(inp2_conc, lag=50, dim=2)"
   ]
  },
  {
   "cell_type": "code",
   "execution_count": 24,
   "metadata": {
    "scrolled": true
   },
   "outputs": [
    {
     "name": "stdout",
     "output_type": "stream",
     "text": [
      "dimension for c-alpha on first two tica spaces: 2\n"
     ]
    }
   ],
   "source": [
    "print('dimension for c-alpha on first two tica spaces:',tica_obj_ca_2D.dimension())"
   ]
  },
  {
   "cell_type": "code",
   "execution_count": 25,
   "metadata": {},
   "outputs": [],
   "source": [
    "tics_ca_2D = tica_obj_ca_2D.get_output()\n",
    "tics_ca_2D_conc=np.concatenate(tics_ca_2D)"
   ]
  },
  {
   "cell_type": "code",
   "execution_count": 30,
   "metadata": {},
   "outputs": [
    {
     "data": {
      "text/plain": [
       "(29977, 2)"
      ]
     },
     "execution_count": 30,
     "metadata": {},
     "output_type": "execute_result"
    }
   ],
   "source": [
    "np.array(tics_ca_2D)[0].shape"
   ]
  },
  {
   "cell_type": "code",
   "execution_count": 34,
   "metadata": {},
   "outputs": [
    {
     "data": {
      "text/html": [
       "<div>\n",
       "<style scoped>\n",
       "    .dataframe tbody tr th:only-of-type {\n",
       "        vertical-align: middle;\n",
       "    }\n",
       "\n",
       "    .dataframe tbody tr th {\n",
       "        vertical-align: top;\n",
       "    }\n",
       "\n",
       "    .dataframe thead th {\n",
       "        text-align: right;\n",
       "    }\n",
       "</style>\n",
       "<table border=\"1\" class=\"dataframe\">\n",
       "  <thead>\n",
       "    <tr style=\"text-align: right;\">\n",
       "      <th></th>\n",
       "      <th>0</th>\n",
       "      <th>1</th>\n",
       "    </tr>\n",
       "  </thead>\n",
       "  <tbody>\n",
       "    <tr>\n",
       "      <th>0</th>\n",
       "      <td>-0.056269</td>\n",
       "      <td>1.293664</td>\n",
       "    </tr>\n",
       "    <tr>\n",
       "      <th>1</th>\n",
       "      <td>0.142959</td>\n",
       "      <td>1.316574</td>\n",
       "    </tr>\n",
       "    <tr>\n",
       "      <th>2</th>\n",
       "      <td>-0.058618</td>\n",
       "      <td>1.503772</td>\n",
       "    </tr>\n",
       "    <tr>\n",
       "      <th>3</th>\n",
       "      <td>0.023968</td>\n",
       "      <td>1.401439</td>\n",
       "    </tr>\n",
       "    <tr>\n",
       "      <th>4</th>\n",
       "      <td>0.065454</td>\n",
       "      <td>1.229791</td>\n",
       "    </tr>\n",
       "    <tr>\n",
       "      <th>5</th>\n",
       "      <td>-0.076860</td>\n",
       "      <td>1.374361</td>\n",
       "    </tr>\n",
       "    <tr>\n",
       "      <th>6</th>\n",
       "      <td>-0.145956</td>\n",
       "      <td>1.295850</td>\n",
       "    </tr>\n",
       "    <tr>\n",
       "      <th>7</th>\n",
       "      <td>-0.073179</td>\n",
       "      <td>1.230644</td>\n",
       "    </tr>\n",
       "    <tr>\n",
       "      <th>8</th>\n",
       "      <td>-0.058303</td>\n",
       "      <td>1.331633</td>\n",
       "    </tr>\n",
       "    <tr>\n",
       "      <th>9</th>\n",
       "      <td>-0.078753</td>\n",
       "      <td>1.261051</td>\n",
       "    </tr>\n",
       "    <tr>\n",
       "      <th>10</th>\n",
       "      <td>-0.050297</td>\n",
       "      <td>0.683951</td>\n",
       "    </tr>\n",
       "    <tr>\n",
       "      <th>11</th>\n",
       "      <td>0.006636</td>\n",
       "      <td>0.953411</td>\n",
       "    </tr>\n",
       "    <tr>\n",
       "      <th>12</th>\n",
       "      <td>0.044471</td>\n",
       "      <td>0.563411</td>\n",
       "    </tr>\n",
       "    <tr>\n",
       "      <th>13</th>\n",
       "      <td>0.001648</td>\n",
       "      <td>0.708816</td>\n",
       "    </tr>\n",
       "    <tr>\n",
       "      <th>14</th>\n",
       "      <td>0.091686</td>\n",
       "      <td>0.989775</td>\n",
       "    </tr>\n",
       "    <tr>\n",
       "      <th>15</th>\n",
       "      <td>0.230054</td>\n",
       "      <td>1.012690</td>\n",
       "    </tr>\n",
       "    <tr>\n",
       "      <th>16</th>\n",
       "      <td>-0.218718</td>\n",
       "      <td>0.978239</td>\n",
       "    </tr>\n",
       "    <tr>\n",
       "      <th>17</th>\n",
       "      <td>-0.141623</td>\n",
       "      <td>1.015835</td>\n",
       "    </tr>\n",
       "    <tr>\n",
       "      <th>18</th>\n",
       "      <td>0.358569</td>\n",
       "      <td>1.041584</td>\n",
       "    </tr>\n",
       "    <tr>\n",
       "      <th>19</th>\n",
       "      <td>0.056004</td>\n",
       "      <td>1.441982</td>\n",
       "    </tr>\n",
       "    <tr>\n",
       "      <th>20</th>\n",
       "      <td>0.090997</td>\n",
       "      <td>1.248928</td>\n",
       "    </tr>\n",
       "    <tr>\n",
       "      <th>21</th>\n",
       "      <td>0.206095</td>\n",
       "      <td>1.227547</td>\n",
       "    </tr>\n",
       "    <tr>\n",
       "      <th>22</th>\n",
       "      <td>0.001775</td>\n",
       "      <td>1.057145</td>\n",
       "    </tr>\n",
       "    <tr>\n",
       "      <th>23</th>\n",
       "      <td>0.272374</td>\n",
       "      <td>0.720175</td>\n",
       "    </tr>\n",
       "    <tr>\n",
       "      <th>24</th>\n",
       "      <td>0.171827</td>\n",
       "      <td>0.908161</td>\n",
       "    </tr>\n",
       "    <tr>\n",
       "      <th>25</th>\n",
       "      <td>-0.144346</td>\n",
       "      <td>0.903010</td>\n",
       "    </tr>\n",
       "    <tr>\n",
       "      <th>26</th>\n",
       "      <td>-0.154635</td>\n",
       "      <td>1.115370</td>\n",
       "    </tr>\n",
       "    <tr>\n",
       "      <th>27</th>\n",
       "      <td>0.336063</td>\n",
       "      <td>0.925312</td>\n",
       "    </tr>\n",
       "    <tr>\n",
       "      <th>28</th>\n",
       "      <td>0.224178</td>\n",
       "      <td>1.019530</td>\n",
       "    </tr>\n",
       "    <tr>\n",
       "      <th>29</th>\n",
       "      <td>-0.114337</td>\n",
       "      <td>0.705096</td>\n",
       "    </tr>\n",
       "    <tr>\n",
       "      <th>...</th>\n",
       "      <td>...</td>\n",
       "      <td>...</td>\n",
       "    </tr>\n",
       "    <tr>\n",
       "      <th>29947</th>\n",
       "      <td>-0.231778</td>\n",
       "      <td>1.852963</td>\n",
       "    </tr>\n",
       "    <tr>\n",
       "      <th>29948</th>\n",
       "      <td>-0.251291</td>\n",
       "      <td>1.417401</td>\n",
       "    </tr>\n",
       "    <tr>\n",
       "      <th>29949</th>\n",
       "      <td>-0.273271</td>\n",
       "      <td>1.665184</td>\n",
       "    </tr>\n",
       "    <tr>\n",
       "      <th>29950</th>\n",
       "      <td>-0.224095</td>\n",
       "      <td>1.791220</td>\n",
       "    </tr>\n",
       "    <tr>\n",
       "      <th>29951</th>\n",
       "      <td>-0.312382</td>\n",
       "      <td>1.623403</td>\n",
       "    </tr>\n",
       "    <tr>\n",
       "      <th>29952</th>\n",
       "      <td>-0.288333</td>\n",
       "      <td>1.800306</td>\n",
       "    </tr>\n",
       "    <tr>\n",
       "      <th>29953</th>\n",
       "      <td>-0.205699</td>\n",
       "      <td>1.668461</td>\n",
       "    </tr>\n",
       "    <tr>\n",
       "      <th>29954</th>\n",
       "      <td>-0.207368</td>\n",
       "      <td>1.654935</td>\n",
       "    </tr>\n",
       "    <tr>\n",
       "      <th>29955</th>\n",
       "      <td>-0.464189</td>\n",
       "      <td>1.602358</td>\n",
       "    </tr>\n",
       "    <tr>\n",
       "      <th>29956</th>\n",
       "      <td>-0.402924</td>\n",
       "      <td>1.223384</td>\n",
       "    </tr>\n",
       "    <tr>\n",
       "      <th>29957</th>\n",
       "      <td>-0.323873</td>\n",
       "      <td>1.099404</td>\n",
       "    </tr>\n",
       "    <tr>\n",
       "      <th>29958</th>\n",
       "      <td>-0.273695</td>\n",
       "      <td>1.488173</td>\n",
       "    </tr>\n",
       "    <tr>\n",
       "      <th>29959</th>\n",
       "      <td>-0.262177</td>\n",
       "      <td>1.381717</td>\n",
       "    </tr>\n",
       "    <tr>\n",
       "      <th>29960</th>\n",
       "      <td>-0.349962</td>\n",
       "      <td>1.135870</td>\n",
       "    </tr>\n",
       "    <tr>\n",
       "      <th>29961</th>\n",
       "      <td>-0.441054</td>\n",
       "      <td>1.129181</td>\n",
       "    </tr>\n",
       "    <tr>\n",
       "      <th>29962</th>\n",
       "      <td>-0.399096</td>\n",
       "      <td>0.867925</td>\n",
       "    </tr>\n",
       "    <tr>\n",
       "      <th>29963</th>\n",
       "      <td>-0.276631</td>\n",
       "      <td>1.323257</td>\n",
       "    </tr>\n",
       "    <tr>\n",
       "      <th>29964</th>\n",
       "      <td>-0.368431</td>\n",
       "      <td>1.177536</td>\n",
       "    </tr>\n",
       "    <tr>\n",
       "      <th>29965</th>\n",
       "      <td>-0.357394</td>\n",
       "      <td>1.048224</td>\n",
       "    </tr>\n",
       "    <tr>\n",
       "      <th>29966</th>\n",
       "      <td>-0.493432</td>\n",
       "      <td>1.360679</td>\n",
       "    </tr>\n",
       "    <tr>\n",
       "      <th>29967</th>\n",
       "      <td>-0.371875</td>\n",
       "      <td>1.246355</td>\n",
       "    </tr>\n",
       "    <tr>\n",
       "      <th>29968</th>\n",
       "      <td>-0.320852</td>\n",
       "      <td>1.148137</td>\n",
       "    </tr>\n",
       "    <tr>\n",
       "      <th>29969</th>\n",
       "      <td>-0.145590</td>\n",
       "      <td>1.467338</td>\n",
       "    </tr>\n",
       "    <tr>\n",
       "      <th>29970</th>\n",
       "      <td>-0.209617</td>\n",
       "      <td>1.701918</td>\n",
       "    </tr>\n",
       "    <tr>\n",
       "      <th>29971</th>\n",
       "      <td>-0.221735</td>\n",
       "      <td>0.934663</td>\n",
       "    </tr>\n",
       "    <tr>\n",
       "      <th>29972</th>\n",
       "      <td>-0.400445</td>\n",
       "      <td>1.046963</td>\n",
       "    </tr>\n",
       "    <tr>\n",
       "      <th>29973</th>\n",
       "      <td>-0.318940</td>\n",
       "      <td>0.825512</td>\n",
       "    </tr>\n",
       "    <tr>\n",
       "      <th>29974</th>\n",
       "      <td>-0.373674</td>\n",
       "      <td>0.965640</td>\n",
       "    </tr>\n",
       "    <tr>\n",
       "      <th>29975</th>\n",
       "      <td>-0.376671</td>\n",
       "      <td>1.172025</td>\n",
       "    </tr>\n",
       "    <tr>\n",
       "      <th>29976</th>\n",
       "      <td>-0.158960</td>\n",
       "      <td>1.031721</td>\n",
       "    </tr>\n",
       "  </tbody>\n",
       "</table>\n",
       "<p>29977 rows × 2 columns</p>\n",
       "</div>"
      ],
      "text/plain": [
       "              0         1\n",
       "0     -0.056269  1.293664\n",
       "1      0.142959  1.316574\n",
       "2     -0.058618  1.503772\n",
       "3      0.023968  1.401439\n",
       "4      0.065454  1.229791\n",
       "...         ...       ...\n",
       "29972 -0.400445  1.046963\n",
       "29973 -0.318940  0.825512\n",
       "29974 -0.373674  0.965640\n",
       "29975 -0.376671  1.172025\n",
       "29976 -0.158960  1.031721\n",
       "\n",
       "[29977 rows x 2 columns]"
      ]
     },
     "execution_count": 34,
     "metadata": {},
     "output_type": "execute_result"
    }
   ],
   "source": [
    "pd.DataFrame(tics_ca_2D[0])"
   ]
  },
  {
   "cell_type": "code",
   "execution_count": 130,
   "metadata": {},
   "outputs": [
    {
     "data": {
      "text/plain": [
       "Text(0, 0.5, 'TICA 2')"
      ]
     },
     "execution_count": 130,
     "metadata": {},
     "output_type": "execute_result"
    },
    {
     "data": {
      "image/png": "[encoded data removed]",
      "text/plain": [
       "<Figure size 288x288 with 1 Axes>"
      ]
     },
     "metadata": {
      "needs_background": "light"
     },
     "output_type": "display_data"
    }
   ],
   "source": [
    "from pylab import *\n",
    "plt.matplotlib.rcParams.update({'font.size': 20})\n",
    "rc('axes', linewidth=1)\n",
    "\n",
    "colors = ['blue', 'green', 'crimson']\n",
    "time_array = [[0,10001],[10001,20001],[20001,29977]]\n",
    "\n",
    "plt.figure(figsize=(4,4))\n",
    "for i in range(3):\n",
    "    plt.scatter(tics_ca_2D_conc[time_array[i][0]:time_array[i][1],0], \n",
    "                                tics_ca_2D_conc[time_array[i][0]:time_array[i][1],1],s=0.007,color = colors[i])\n",
    "\n",
    "plt.xlim(-2.1, 2.1)\n",
    "plt.ylim(-2.1, 2.1)\n",
    "\n",
    "#fontsize = 10\n",
    "ax = gca()\n",
    "for tick in ax.xaxis.get_major_ticks():\n",
    "    tick.label1.set_fontsize(fontsize)\n",
    "    tick.label1.set_fontweight('bold')\n",
    "for tick in ax.yaxis.get_major_ticks():\n",
    "    tick.label1.set_fontsize(fontsize)\n",
    "    tick.label1.set_fontweight('bold')\n",
    "    \n",
    "plt.xlabel('TICA 1',fontsize='small', weight = 'bold',fontstyle = 'oblique') \n",
    "plt.ylabel('TICA 2',fontsize='small', weight = 'bold',fontstyle = 'oblique')"
   ]
  },
  {
   "cell_type": "code",
   "execution_count": 122,
   "metadata": {},
   "outputs": [],
   "source": [
    "savetxt('tica_1_2_' + force_name + '.dat', tics_ca_2D_conc)"
   ]
  },
  {
   "cell_type": "code",
   "execution_count": 131,
   "metadata": {},
   "outputs": [],
   "source": [
    "# import mdtraj as md\n",
    "# t1 = md.load(traj_0, top = pbdfile_A40)\n",
    "# t2 = md.load(traj_1, top = pbdfile_A40)\n",
    "# t3 = md.load(traj_2, top = pbdfile_A40)\n",
    "# stacked = t1.join(t2)\n",
    "# stacked = stacked.join(t3)\n",
    "# md.Trajectory.save_dcd(stacked,'traj_concatenated' +'.dcd')"
   ]
  },
  {
   "cell_type": "code",
   "execution_count": null,
   "metadata": {},
   "outputs": [],
   "source": []
  }
 ],
 "metadata": {
  "kernelspec": {
   "display_name": "Python 3",
   "language": "python",
   "name": "python3"
  },
  "language_info": {
   "codemirror_mode": {
    "name": "ipython",
    "version": 3
   },
   "file_extension": ".py",
   "mimetype": "text/x-python",
   "name": "python",
   "nbconvert_exporter": "python",
   "pygments_lexer": "ipython3",
   "version": "3.7.3"
  }
 },
 "nbformat": 4,
 "nbformat_minor": 2
}
